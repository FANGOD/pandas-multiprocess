{
 "cells": [
  {
   "cell_type": "code",
   "execution_count": 1,
   "metadata": {},
   "outputs": [],
   "source": [
    "import pandas as pd\n",
    "import numpy as np\n",
    "import sys\n",
    "import os\n",
    "from pandas_multiprocess import multi_process\n",
    "from datetime import datetime\n",
    "import time"
   ]
  },
  {
   "cell_type": "code",
   "execution_count": 17,
   "metadata": {},
   "outputs": [],
   "source": [
    "def func(data_row, wait):\n",
    "    time.sleep(wait)\n",
    "    data_row['sum'] = data_row['col_1'] + data_row['col_2']\n",
    "    return data_row"
   ]
  },
  {
   "cell_type": "code",
   "execution_count": 31,
   "metadata": {},
   "outputs": [],
   "source": [
    "df_len = 1000\n",
    "df = pd.DataFrame({'col_1': np.random.normal(size=df_len),\n",
    "                   'col_2': np.random.normal(size=df_len)\n",
    "                   })\n",
    "args = {'wait': 0.01}"
   ]
  },
  {
   "cell_type": "code",
   "execution_count": 39,
   "metadata": {
    "scrolled": true
   },
   "outputs": [
    {
     "name": "stdout",
     "output_type": "stream",
     "text": [
      "Pandas apply() run time 11.868649 seconds.\n"
     ]
    }
   ],
   "source": [
    "# Using pandas apply()\n",
    "t0 = time.time()\n",
    "result = df.apply(func, axis=1, **args)\n",
    "print(\"Pandas apply() run time {:f} seconds.\".format(time.time() - t0))"
   ]
  },
  {
   "cell_type": "code",
   "execution_count": 40,
   "metadata": {},
   "outputs": [
    {
     "name": "stdout",
     "output_type": "stream",
     "text": [
      "8 processes run time 2.017582 seconds.\n"
     ]
    }
   ],
   "source": [
    "# Using pandas_multiprocess.multi_process() with 8 processes\n",
    "t0 = time.time()\n",
    "result = multi_process(func=func,\n",
    "                       data=df,\n",
    "                       num_process=8,\n",
    "                       **args)\n",
    "print(\"8 processes run time {:f} seconds.\".format(time.time() - t0))"
   ]
  },
  {
   "cell_type": "code",
   "execution_count": 38,
   "metadata": {},
   "outputs": [
    {
     "name": "stdout",
     "output_type": "stream",
     "text": [
      "16 processes run time 1.305580 seconds.\n"
     ]
    }
   ],
   "source": [
    "# Using pandas_multiprocess.multi_process() with 16 processes\n",
    "t0 = time.time()\n",
    "result = multi_process(func=func,\n",
    "                       data=df,\n",
    "                       num_process=16,\n",
    "                       **args)\n",
    "print(\"16 processes run time {:f} seconds.\".format(time.time() - t0))"
   ]
  },
  {
   "cell_type": "code",
   "execution_count": 41,
   "metadata": {},
   "outputs": [
    {
     "data": {
      "text/html": [
       "<div>\n",
       "<style scoped>\n",
       "    .dataframe tbody tr th:only-of-type {\n",
       "        vertical-align: middle;\n",
       "    }\n",
       "\n",
       "    .dataframe tbody tr th {\n",
       "        vertical-align: top;\n",
       "    }\n",
       "\n",
       "    .dataframe thead th {\n",
       "        text-align: right;\n",
       "    }\n",
       "</style>\n",
       "<table border=\"1\" class=\"dataframe\">\n",
       "  <thead>\n",
       "    <tr style=\"text-align: right;\">\n",
       "      <th></th>\n",
       "      <th>col_1</th>\n",
       "      <th>col_2</th>\n",
       "      <th>sum</th>\n",
       "    </tr>\n",
       "  </thead>\n",
       "  <tbody>\n",
       "    <tr>\n",
       "      <th>0</th>\n",
       "      <td>1.456458</td>\n",
       "      <td>0.145007</td>\n",
       "      <td>1.601465</td>\n",
       "    </tr>\n",
       "    <tr>\n",
       "      <th>1</th>\n",
       "      <td>1.582419</td>\n",
       "      <td>0.032244</td>\n",
       "      <td>1.614663</td>\n",
       "    </tr>\n",
       "    <tr>\n",
       "      <th>2</th>\n",
       "      <td>-0.082336</td>\n",
       "      <td>-1.454403</td>\n",
       "      <td>-1.536739</td>\n",
       "    </tr>\n",
       "    <tr>\n",
       "      <th>3</th>\n",
       "      <td>1.004679</td>\n",
       "      <td>1.110422</td>\n",
       "      <td>2.115101</td>\n",
       "    </tr>\n",
       "    <tr>\n",
       "      <th>4</th>\n",
       "      <td>-3.207741</td>\n",
       "      <td>0.086595</td>\n",
       "      <td>-3.121146</td>\n",
       "    </tr>\n",
       "  </tbody>\n",
       "</table>\n",
       "</div>"
      ],
      "text/plain": [
       "      col_1     col_2       sum\n",
       "0  1.456458  0.145007  1.601465\n",
       "1  1.582419  0.032244  1.614663\n",
       "2 -0.082336 -1.454403 -1.536739\n",
       "3  1.004679  1.110422  2.115101\n",
       "4 -3.207741  0.086595 -3.121146"
      ]
     },
     "execution_count": 41,
     "metadata": {},
     "output_type": "execute_result"
    }
   ],
   "source": [
    "result.head()"
   ]
  },
  {
   "cell_type": "code",
   "execution_count": 42,
   "metadata": {},
   "outputs": [],
   "source": [
    "df.apply?"
   ]
  }
 ],
 "metadata": {
  "kernelspec": {
   "display_name": "multiprocess",
   "language": "python",
   "name": "multiprocess"
  },
  "language_info": {
   "codemirror_mode": {
    "name": "ipython",
    "version": 3
   },
   "file_extension": ".py",
   "mimetype": "text/x-python",
   "name": "python",
   "nbconvert_exporter": "python",
   "pygments_lexer": "ipython3",
   "version": "3.5.2"
  }
 },
 "nbformat": 4,
 "nbformat_minor": 2
}
